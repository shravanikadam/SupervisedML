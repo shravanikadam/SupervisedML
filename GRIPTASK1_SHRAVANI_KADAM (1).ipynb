{
  "nbformat": 4,
  "nbformat_minor": 0,
  "metadata": {
    "colab": {
      "name": "GRIPTASK1- SHRAVANI KADAM.ipynb",
      "provenance": [],
      "toc_visible": true
    },
    "kernelspec": {
      "name": "python3",
      "display_name": "Python 3"
    },
    "language_info": {
      "name": "python"
    }
  },
  "cells": [
    {
      "cell_type": "markdown",
      "metadata": {
        "id": "fCUxEZmor0gL"
      },
      "source": [
        "**THE SPARKS FOUNDATION**\n",
        "\n",
        "INTERN NAME : SHRAVANI KADAM\n",
        "\n",
        "DOMAIN : DATA SCIENCE AND BUSINESS ANALYTICS\n",
        "\n",
        "PROBLEM STAT : PREDICT PERCENTAGE OF STUDENT BASED ON NO OF STUDY HOURS.\n",
        "\n",
        "GRIPMAR21 : TASK 1 : PREDICTION USING SUPERVISED ML\n",
        "\n",
        "DATASET SOURCE :https://bit.ly/w-data"
      ]
    },
    {
      "cell_type": "markdown",
      "metadata": {
        "id": "2xUELU4GYKsb"
      },
      "source": [
        "**STEP 1**: In this block of code we are importing required libraries like numpy , pandas and sklearn"
      ]
    },
    {
      "cell_type": "code",
      "metadata": {
        "id": "FyhQhO9g_OZ6"
      },
      "source": [
        "import pandas as pd  \n",
        "import numpy as np    \n",
        "import matplotlib.pyplot as plt \n",
        "import sklearn\n",
        "from sklearn.linear_model import LinearRegression\n"
      ],
      "execution_count": 81,
      "outputs": []
    },
    {
      "cell_type": "markdown",
      "metadata": {
        "id": "PpzKFSaSVXJb"
      },
      "source": [
        "**STEP 2 :** The next phase is to load the data into the program to perform the desired operation. Here we use the pandas to load the csv file dataset and when data is successfully loaded we print a statement  to get confirmation."
      ]
    },
    {
      "cell_type": "code",
      "metadata": {
        "colab": {
          "base_uri": "https://localhost:8080/"
        },
        "id": "qtR6JDaDGRaF",
        "outputId": "6bd47ab3-49df-4dde-f24d-92136ad4fbc2"
      },
      "source": [
        "\n",
        "dataset = pd.read_csv(\"/new_sample.csv\")\n",
        "dataset.head() \n",
        "print(\"Successfully imported data into console\" ) "
      ],
      "execution_count": 82,
      "outputs": [
        {
          "output_type": "stream",
          "text": [
            "Successfully imported data into console\n"
          ],
          "name": "stdout"
        }
      ]
    },
    {
      "cell_type": "markdown",
      "metadata": {
        "id": "sAydlicKWEu_"
      },
      "source": [
        "**STEP 3 :** Next is to view the data and so we are using the head() function."
      ]
    },
    {
      "cell_type": "code",
      "metadata": {
        "colab": {
          "base_uri": "https://localhost:8080/"
        },
        "id": "s7Th_CcWHFSn",
        "outputId": "2c75a935-778a-460f-e137-b6e048987cad"
      },
      "source": [
        "dataset.head"
      ],
      "execution_count": 83,
      "outputs": [
        {
          "output_type": "execute_result",
          "data": {
            "text/plain": [
              "<bound method NDFrame.head of     Hours  Scores\n",
              "0     2.5      21\n",
              "1     5.1      47\n",
              "2     3.2      27\n",
              "3     8.5      75\n",
              "4     3.5      30\n",
              "5     1.5      20\n",
              "6     9.2      88\n",
              "7     5.5      60\n",
              "8     8.3      81\n",
              "9     2.7      25\n",
              "10    7.7      85\n",
              "11    5.9      62\n",
              "12    4.5      41\n",
              "13    3.3      42\n",
              "14    1.1      17\n",
              "15    8.9      95\n",
              "16    2.5      30\n",
              "17    1.9      24\n",
              "18    6.1      67\n",
              "19    7.4      69\n",
              "20    2.7      30\n",
              "21    4.8      54\n",
              "22    3.8      35\n",
              "23    6.9      76\n",
              "24    7.8      86>"
            ]
          },
          "metadata": {
            "tags": []
          },
          "execution_count": 83
        }
      ]
    },
    {
      "cell_type": "markdown",
      "metadata": {
        "id": "iCC-yuVaXJt3"
      },
      "source": [
        "**STEP 4 :** The next phase is to enter distribution scores and plot them according to the requirement, here we are going to enter the title, x_label, and y_label, and show it according to the desired result."
      ]
    },
    {
      "cell_type": "code",
      "metadata": {
        "colab": {
          "base_uri": "https://localhost:8080/",
          "height": 295
        },
        "id": "vSLgsS4FIOxI",
        "outputId": "0a7cc9b2-a9ae-411c-8e67-c98337e70326"
      },
      "source": [
        "dataset.plot(x='Hours', y='Scores', style='o')    \n",
        "plt.title('Hours vs Percentage')    \n",
        "plt.xlabel('The Hours Studied')    \n",
        "plt.ylabel('The Percentage Score')    \n",
        "plt.show()"
      ],
      "execution_count": 84,
      "outputs": [
        {
          "output_type": "display_data",
          "data": {
            "image/png": "[encoded data removed]",
            "text/plain": [
              "<Figure size 432x288 with 1 Axes>"
            ]
          },
          "metadata": {
            "tags": [],
            "needs_background": "light"
          }
        }
      ]
    },
    {
      "cell_type": "markdown",
      "metadata": {
        "id": "Mr1VQmI6YDGC"
      },
      "source": [
        "**STEP 5 :** The process of dividing the data into attributes and labels is our next task, so we implement the same as below."
      ]
    },
    {
      "cell_type": "code",
      "metadata": {
        "id": "gwdYFWeEIxKq"
      },
      "source": [
        "X = dataset.iloc[:, :-1].values    \n",
        "y = dataset.iloc[:, 1].values  "
      ],
      "execution_count": 85,
      "outputs": []
    },
    {
      "cell_type": "markdown",
      "metadata": {
        "id": "aiL9KjCMY3e2"
      },
      "source": [
        "**STEP 6 :** The split of data into the training and test sets is very important as in this time we will be using Scikit Learn's builtin method of train_test_split(), as below:\n",
        "\n",
        "Here test_size represents the data that we want for testing and rest is used for training.\n",
        "\n",
        "Random_state is used for producing same set of train and test data points, for each split."
      ]
    },
    {
      "cell_type": "code",
      "metadata": {
        "id": "gJwlKG0cMxtU"
      },
      "source": [
        "from sklearn.model_selection import train_test_split    \n",
        "X_train, X_test, y_train, y_test = train_test_split(X, y,test_size=0.2, random_state=0)"
      ],
      "execution_count": 86,
      "outputs": []
    },
    {
      "cell_type": "markdown",
      "metadata": {
        "id": "vJn5e_ADY-6n"
      },
      "source": [
        "**STEP 7 :** The very next process is to train the algorithm, thus the step include the following:"
      ]
    },
    {
      "cell_type": "code",
      "metadata": {
        "colab": {
          "base_uri": "https://localhost:8080/"
        },
        "id": "QkgBzAFDJGqq",
        "outputId": "a2b566e3-c282-4eb2-f68c-dc9dc5ef7715"
      },
      "source": [
        "from sklearn.linear_model import LinearRegression    \n",
        "regressor = LinearRegression()    \n",
        "regressor.fit(X_train, y_train) \n",
        "y_train_pred = regressor.predict(X_train)\n",
        "y_test_pred = regressor.predict(X_test)  \n",
        "  \n",
        "print(\"Training ... Completed !.\")  "
      ],
      "execution_count": 87,
      "outputs": [
        {
          "output_type": "stream",
          "text": [
            "Training ... Completed !.\n"
          ],
          "name": "stdout"
        }
      ]
    },
    {
      "cell_type": "markdown",
      "metadata": {
        "id": "51Bfvn7bZnGT"
      },
      "source": [
        "**STEP 8 :** The very next phase is to implement the plotting test data using the previously trained test data:"
      ]
    },
    {
      "cell_type": "code",
      "metadata": {
        "colab": {
          "base_uri": "https://localhost:8080/",
          "height": 265
        },
        "id": "lp38X-LlJXCr",
        "outputId": "13312a54-e0f2-4e8a-ac81-2c75daa74aa8"
      },
      "source": [
        "line = regressor.coef_*X+regressor.intercept_  \n",
        "plt.scatter(X, y)  \n",
        "plt.plot(X, line);  \n",
        "plt.show()  "
      ],
      "execution_count": 88,
      "outputs": [
        {
          "output_type": "display_data",
          "data": {
            "image/png": "[encoded data removed]",
            "text/plain": [
              "<Figure size 432x288 with 1 Axes>"
            ]
          },
          "metadata": {
            "tags": [],
            "needs_background": "light"
          }
        }
      ]
    },
    {
      "cell_type": "markdown",
      "metadata": {
        "id": "LaBQ3RUMZsSi"
      },
      "source": [
        "**STEP 9 :**Predicting the scores for the model is the next important step towards knowing our model, as we proceed as follows,"
      ]
    },
    {
      "cell_type": "code",
      "metadata": {
        "colab": {
          "base_uri": "https://localhost:8080/"
        },
        "id": "fn14T1rBJoiI",
        "outputId": "84ff3ae5-f96b-4260-8c84-6a79ae4fb04f"
      },
      "source": [
        "print(X_test)   \n",
        "y_pred = regressor.predict(X_test)  "
      ],
      "execution_count": 89,
      "outputs": [
        {
          "output_type": "stream",
          "text": [
            "[[1.5]\n",
            " [3.2]\n",
            " [7.4]\n",
            " [2.5]\n",
            " [5.9]]\n"
          ],
          "name": "stdout"
        }
      ]
    },
    {
      "cell_type": "markdown",
      "metadata": {
        "id": "gDrdjyKvZ0CF"
      },
      "source": [
        "**STEP 10 :** Comparing the actual versus predicted model to understand our model fitting"
      ]
    },
    {
      "cell_type": "code",
      "metadata": {
        "colab": {
          "base_uri": "https://localhost:8080/",
          "height": 195
        },
        "id": "-Ri9Xn9QJ8E9",
        "outputId": "d468df18-21ff-4580-84d0-9fec19fa7005"
      },
      "source": [
        "df = pd.DataFrame({'Actual': y_test, 'Predicted': y_pred})    \n",
        "df "
      ],
      "execution_count": 90,
      "outputs": [
        {
          "output_type": "execute_result",
          "data": {
            "text/html": [
              "<div>\n",
              "<style scoped>\n",
              "    .dataframe tbody tr th:only-of-type {\n",
              "        vertical-align: middle;\n",
              "    }\n",
              "\n",
              "    .dataframe tbody tr th {\n",
              "        vertical-align: top;\n",
              "    }\n",
              "\n",
              "    .dataframe thead th {\n",
              "        text-align: right;\n",
              "    }\n",
              "</style>\n",
              "<table border=\"1\" class=\"dataframe\">\n",
              "  <thead>\n",
              "    <tr style=\"text-align: right;\">\n",
              "      <th></th>\n",
              "      <th>Actual</th>\n",
              "      <th>Predicted</th>\n",
              "    </tr>\n",
              "  </thead>\n",
              "  <tbody>\n",
              "    <tr>\n",
              "      <th>0</th>\n",
              "      <td>20</td>\n",
              "      <td>16.884145</td>\n",
              "    </tr>\n",
              "    <tr>\n",
              "      <th>1</th>\n",
              "      <td>27</td>\n",
              "      <td>33.732261</td>\n",
              "    </tr>\n",
              "    <tr>\n",
              "      <th>2</th>\n",
              "      <td>69</td>\n",
              "      <td>75.357018</td>\n",
              "    </tr>\n",
              "    <tr>\n",
              "      <th>3</th>\n",
              "      <td>30</td>\n",
              "      <td>26.794801</td>\n",
              "    </tr>\n",
              "    <tr>\n",
              "      <th>4</th>\n",
              "      <td>62</td>\n",
              "      <td>60.491033</td>\n",
              "    </tr>\n",
              "  </tbody>\n",
              "</table>\n",
              "</div>"
            ],
            "text/plain": [
              "   Actual  Predicted\n",
              "0      20  16.884145\n",
              "1      27  33.732261\n",
              "2      69  75.357018\n",
              "3      30  26.794801\n",
              "4      62  60.491033"
            ]
          },
          "metadata": {
            "tags": []
          },
          "execution_count": 90
        }
      ]
    },
    {
      "cell_type": "markdown",
      "metadata": {
        "id": "avqpKdXHZ5Pu"
      },
      "source": [
        "**STEP 11 :** Now it's time to test our model with sample testing hours, so in this case, we take 7 hours, i.e, if a student studies for seven hours, approximately how many marks he can get based on the data we received and the model we applied."
      ]
    },
    {
      "cell_type": "code",
      "metadata": {
        "colab": {
          "base_uri": "https://localhost:8080/"
        },
        "id": "AyUDTBMeN6BM",
        "outputId": "b9fcd037-afee-48e6-8f42-7ba7cc5ba7ca"
      },
      "source": [
        "hours = [[3.8]]  \n",
        "own_pred = regressor.predict(hours)  \n",
        "print(\"Number of hours = {}\".format(hours))  \n",
        "print(\"Prediction Score = {}\".format(own_pred[0]))"
      ],
      "execution_count": 91,
      "outputs": [
        {
          "output_type": "stream",
          "text": [
            "Number of hours = [[3.8]]\n",
            "Prediction Score = 39.67865466787517\n"
          ],
          "name": "stdout"
        }
      ]
    },
    {
      "cell_type": "markdown",
      "metadata": {
        "id": "q6cX5iWnZ-Vq"
      },
      "source": [
        "**STEP 12 :** The final step is to evaluate the performance of algorithm. This step is particularly important to compare how well different algorithms perform on a particular dataset. For simplicity here, we have chosen the mean square error. There are many such metrics."
      ]
    },
    {
      "cell_type": "code",
      "metadata": {
        "colab": {
          "base_uri": "https://localhost:8080/"
        },
        "id": "dSs2mlvSOCP1",
        "outputId": "29dea710-8187-4a7c-b806-cf11bdd9a403"
      },
      "source": [
        "from sklearn import metrics  \n",
        "print('Mean Absolute Error:', \n",
        "      metrics.mean_absolute_error(y_test, y_pred)) "
      ],
      "execution_count": 92,
      "outputs": [
        {
          "output_type": "stream",
          "text": [
            "Mean Absolute Error: 4.183859899002982\n"
          ],
          "name": "stdout"
        }
      ]
    },
    {
      "cell_type": "markdown",
      "metadata": {
        "id": "pir1An_qbNpT"
      },
      "source": [
        "**STEP 13** : Now we will visualise the model by plotting a scatter plot between the predicted marks and actual marks to compare the accuracy of the model"
      ]
    },
    {
      "cell_type": "code",
      "metadata": {
        "colab": {
          "base_uri": "https://localhost:8080/",
          "height": 295
        },
        "id": "C9HksSywbL0k",
        "outputId": "b026363d-aaa8-446c-942a-bac8febbeb6d"
      },
      "source": [
        "plt.scatter(y_train, y_train_pred, c='blue', marker = 'o', label='Training data')\n",
        "plt.scatter(y_test, y_test_pred, c='green', marker = '*', label='Test data')\n",
        "plt.xlabel('Marks Obtained')\n",
        "plt.ylabel('Predicted Marks')\n",
        "plt.title('Obtained Marks vs Predicted Marks')\n",
        "plt.legend(loc = 'upper left')\n",
        "plt.plot()\n",
        "plt.show()"
      ],
      "execution_count": 93,
      "outputs": [
        {
          "output_type": "display_data",
          "data": {
            "image/png": "[encoded data removed]",
            "text/plain": [
              "<Figure size 432x288 with 1 Axes>"
            ]
          },
          "metadata": {
            "tags": [],
            "needs_background": "light"
          }
        }
      ]
    },
    {
      "cell_type": "markdown",
      "metadata": {
        "id": "fzN8opNiaO04"
      },
      "source": [
        "Now we have successfully implemented the model and have received the output."
      ]
    }
  ]
}